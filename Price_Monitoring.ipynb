{
 "cells": [
  {
   "cell_type": "code",
   "execution_count": 4,
   "metadata": {},
   "outputs": [],
   "source": [
    "# amazon sp api\n",
    "from sp_api.api import Inventories\n",
    "from sp_api.api import Catalog\n",
    "from sp_api.base.marketplaces import Marketplaces"
   ]
  },
  {
   "cell_type": "code",
   "execution_count": 5,
   "metadata": {},
   "outputs": [
    {
     "name": "stdout",
     "output_type": "stream",
     "text": [
      "ASIN:  B08P3X2ZZT\n",
      "PRODUCT:  Cat6 Plenum (CMP) 1000ft |100% Solid Copper Conductors |Fluke-Certified |550MHz, 23AWG 4Pair, Unshielded Twisted Pair (UTP), Bulk Ethernet Cable |Brooklyn Cables| (Blue)\n",
      "PRICE:  189.99\n",
      "AVAILABLE:  1\n",
      "COLOUR:  Blue\n",
      "---------------------------------------\n",
      "ASIN:  B0924N19J8\n",
      "PRODUCT:  Cat6 Plenum (CMP) 1000ft |100% Solid Copper Conductors |Fluke-Certified |550MHz, 23AWG 4Pair, Unshielded Twisted Pair (UTP), Bulk Ethernet Cable |Brooklyn Cables| (Black)\n",
      "PRICE:  189.99\n",
      "AVAILABLE:  35\n",
      "COLOUR:  Black\n",
      "---------------------------------------\n",
      "ASIN:  B0924SBBMQ\n",
      "PRODUCT:  Cat6 Plenum (CMP) 1000ft |100% Solid Copper Conductors |Fluke-Certified |550MHz, 23AWG 4Pair, Unshielded Twisted Pair (UTP), Bulk Ethernet Cable |Brooklyn Cables| (Grey)\n",
      "PRICE:  189.99\n",
      "AVAILABLE:  17\n",
      "COLOUR:  Grey\n",
      "---------------------------------------\n",
      "ASIN:  B08P3W63KG\n",
      "PRODUCT:  Cat6 Plenum (CMP) 1000ft |100% Solid Copper Conductors |Fluke-Certified |550MHz, 23AWG 4Pair, Unshielded Twisted Pair (UTP), Bulk Ethernet Cable |Brooklyn Cables| (White)\n",
      "PRICE:  189.99\n",
      "AVAILABLE:  0\n",
      "COLOUR:  White\n",
      "---------------------------------------\n",
      "ASIN:  B0924R9HVD\n",
      "PRODUCT:  Cat6 Plenum (CMP) 1000ft |100% Solid Copper Conductors |Fluke-Certified |550MHz, 23AWG 4Pair, Unshielded Twisted Pair (UTP), Bulk Ethernet Cable |Brooklyn Cables| (Yellow)\n",
      "PRICE:  189.99\n",
      "AVAILABLE:  37\n",
      "COLOUR:  Yellow\n",
      "---------------------------------------\n"
     ]
    }
   ],
   "source": [
    "# load credentials from amazon store\n",
    "credentials=dict(\n",
    "    refresh_token='',\n",
    "    lwa_app_id='',\n",
    "    lwa_client_secret='',\n",
    "    aws_secret_key='',\n",
    "    aws_access_key='',\n",
    "    role_arn='',\n",
    ")\n",
    "# load Inventory, and Catalog API\n",
    "res_invento = Inventories(marketplace = Marketplaces.US, account = 'default', credentials = credentials)\n",
    "# calling the Catalog Api\n",
    "res_catalog = Catalog(marketplace = Marketplaces.US, account='default', credentials=credentials)\n",
    "  \n",
    "res = res_invento.get_inventory_summary_marketplace(details=True)\n",
    "\n",
    "total_objects = 5\n",
    "asin_quantity_dict = {}\n",
    "\n",
    "# load products' asin's and available quantities from amazon store\n",
    "for i in range(0,total_objects):\n",
    "\n",
    "    asin = res.payload['inventorySummaries'][i]['asin']\n",
    "    available = res.payload['inventorySummaries'][i]['inventoryDetails']['fulfillableQuantity']\n",
    "\n",
    "    asin_quantity_dict[asin] = available\n",
    "\n",
    "\n",
    "# getting product by asins and updating their information\n",
    "\n",
    "for ASIN in asin_quantity_dict.keys():\n",
    "\n",
    "    # loading information from amazon store based on the ASIN\n",
    "    res = res_catalog.get_item(ASIN)\n",
    "    color = res.payload['AttributeSets'][0]['Color']\n",
    "    prodDescription = res.payload['AttributeSets'][0]['Title']\n",
    "    price = res.payload['AttributeSets'][0]['ListPrice']['Amount']\n",
    "    left = asin_quantity_dict[ASIN]\n",
    "    \n",
    "    print(\"ASIN: \", ASIN)\n",
    "    print(\"PRODUCT: \",prodDescription)\n",
    "    print(\"PRICE: \", price)\n",
    "    print(\"AVAILABLE: \",left)\n",
    "    print(\"COLOUR: \",color)\n",
    "    print(\"---------------------------------------\")"
   ]
  },
  {
   "cell_type": "code",
   "execution_count": null,
   "metadata": {},
   "outputs": [],
   "source": []
  }
 ],
 "metadata": {
  "kernelspec": {
   "display_name": "Python 3",
   "language": "python",
   "name": "python3"
  },
  "language_info": {
   "codemirror_mode": {
    "name": "ipython",
    "version": 3
   },
   "file_extension": ".py",
   "mimetype": "text/x-python",
   "name": "python",
   "nbconvert_exporter": "python",
   "pygments_lexer": "ipython3",
   "version": "3.8.10"
  }
 },
 "nbformat": 4,
 "nbformat_minor": 4
}
