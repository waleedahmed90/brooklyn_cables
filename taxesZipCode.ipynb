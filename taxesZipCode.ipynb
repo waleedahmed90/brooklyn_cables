{
 "cells": [
  {
   "cell_type": "code",
   "execution_count": 58,
   "metadata": {},
   "outputs": [],
   "source": [
    "from bs4 import BeautifulSoup\n",
    "import requests"
   ]
  },
  {
   "cell_type": "code",
   "execution_count": 91,
   "metadata": {},
   "outputs": [],
   "source": [
    "amount = 554.97\n",
    "zip_code = str(89154)"
   ]
  },
  {
   "cell_type": "code",
   "execution_count": 92,
   "metadata": {},
   "outputs": [
    {
     "name": "stdout",
     "output_type": "stream",
     "text": [
      "http://www.salestaxstates.com/sales-tax-calculator-*-*-89154\n"
     ]
    }
   ],
   "source": [
    "template = 'http://www.salestaxstates.com/sales-tax-calculator-*-*-{}'\n",
    "url = template.format(zip_code)\n",
    "print(url)"
   ]
  },
  {
   "cell_type": "code",
   "execution_count": 93,
   "metadata": {},
   "outputs": [],
   "source": [
    "response = requests.get(url)\n",
    "# print(response.content)\n",
    "soup = BeautifulSoup(response.content, 'html.parser')"
   ]
  },
  {
   "cell_type": "code",
   "execution_count": 94,
   "metadata": {},
   "outputs": [],
   "source": [
    "# percentage_details_combined = soup.find(id=\"taxesPercent\").get_text()\n",
    "percentage_details_combined = soup.find_all(\"option\", class_=\"combined\")"
   ]
  },
  {
   "cell_type": "code",
   "execution_count": 95,
   "metadata": {},
   "outputs": [
    {
     "name": "stdout",
     "output_type": "stream",
     "text": [
      "<class 'bs4.element.ResultSet'>\n"
     ]
    }
   ],
   "source": [
    "# results = soup.prettify()\n",
    "print(type(percentage_details_combined))"
   ]
  },
  {
   "cell_type": "code",
   "execution_count": 96,
   "metadata": {},
   "outputs": [
    {
     "name": "stdout",
     "output_type": "stream",
     "text": [
      "<option class=\"combined\" selected=\"\" value=\"0.08375\">8.375% (Combined)</option>\n"
     ]
    }
   ],
   "source": [
    "print(percentage_details_combined[0])"
   ]
  },
  {
   "cell_type": "code",
   "execution_count": 97,
   "metadata": {},
   "outputs": [
    {
     "name": "stdout",
     "output_type": "stream",
     "text": [
      "<class 'float'>\n",
      "0.08375\n"
     ]
    }
   ],
   "source": [
    "combined_tax_multiplicand = float(percentage_details_combined[0].get('value'))\n",
    "print(type(combined_tax_multiplicand))\n",
    "print(combined_tax_multiplicand)"
   ]
  },
  {
   "cell_type": "code",
   "execution_count": 98,
   "metadata": {},
   "outputs": [
    {
     "name": "stdout",
     "output_type": "stream",
     "text": [
      "Bill: $ 554.97\n",
      "Tax: $ 46.48  @  8.38  %\n",
      "Total Amount: $ 601.45\n",
      "Delivery charges: $ 5.99\n",
      "\n",
      "BILL: $ 607.44\n"
     ]
    }
   ],
   "source": [
    "Tax_amount = round((amount*combined_tax_multiplicand),2)\n",
    "total_amount = amount + Tax_amount\n",
    "print(\"Bill: $\", amount)\n",
    "print(\"Tax: $\", Tax_amount,\" @ \",round((combined_tax_multiplicand*100),2), \" %\")\n",
    "print(\"Total Amount: $\",round(total_amount,2))\n",
    "print(\"Delivery charges: $ 5.99\")\n",
    "\n",
    "print(\"\\nBILL: $\", round((total_amount + 5.99),2))"
   ]
  },
  {
   "cell_type": "code",
   "execution_count": 99,
   "metadata": {},
   "outputs": [],
   "source": [
    "a = \"2.023\""
   ]
  },
  {
   "cell_type": "code",
   "execution_count": 100,
   "metadata": {},
   "outputs": [],
   "source": [
    "b = float(a)"
   ]
  },
  {
   "cell_type": "code",
   "execution_count": 101,
   "metadata": {},
   "outputs": [
    {
     "name": "stdout",
     "output_type": "stream",
     "text": [
      "<class 'float'>\n"
     ]
    }
   ],
   "source": [
    "print(type(b))"
   ]
  },
  {
   "cell_type": "code",
   "execution_count": null,
   "metadata": {},
   "outputs": [],
   "source": []
  }
 ],
 "metadata": {
  "kernelspec": {
   "display_name": "Python 3",
   "language": "python",
   "name": "python3"
  },
  "language_info": {
   "codemirror_mode": {
    "name": "ipython",
    "version": 3
   },
   "file_extension": ".py",
   "mimetype": "text/x-python",
   "name": "python",
   "nbconvert_exporter": "python",
   "pygments_lexer": "ipython3",
   "version": "3.8.10"
  }
 },
 "nbformat": 4,
 "nbformat_minor": 4
}
