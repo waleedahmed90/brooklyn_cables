{
 "cells": [
  {
   "cell_type": "code",
   "execution_count": 2,
   "metadata": {},
   "outputs": [],
   "source": [
    "from sp_api.api import Catalog\n",
    "from sp_api.api import Inventories\n",
    "from sp_api.base.marketplaces import Marketplaces"
   ]
  },
  {
   "cell_type": "code",
   "execution_count": 3,
   "metadata": {},
   "outputs": [],
   "source": [
    "credentials=dict(\n",
    "        refresh_token='',\n",
    "        lwa_app_id='',\n",
    "        lwa_client_secret='',\n",
    "        aws_secret_key='',\n",
    "        aws_access_key='',\n",
    "        role_arn='',\n",
    "    )"
   ]
  },
  {
   "cell_type": "code",
   "execution_count": 4,
   "metadata": {},
   "outputs": [],
   "source": [
    "res_catalog = Catalog(marketplace = Marketplaces.US, account='default', credentials=credentials)\n",
    "res_invento = Inventories(marketplace = Marketplaces.US, account = 'default', credentials = credentials)"
   ]
  },
  {
   "cell_type": "code",
   "execution_count": 6,
   "metadata": {},
   "outputs": [
    {
     "name": "stdout",
     "output_type": "stream",
     "text": [
      "189.99\n",
      "Yellow\n",
      "Cat6 Plenum (CMP) 1000ft |100% Solid Copper Conductors |Fluke-Certified |550MHz, 23AWG 4Pair, Unshielded Twisted Pair (UTP), Bulk Ethernet Cable |Brooklyn Cables| (Yellow)\n",
      "{'Identifiers': {'MarketplaceASIN': {'MarketplaceId': 'ATVPDKIKX0DER', 'ASIN': 'B0924R9HVD'}}, 'AttributeSets': [{'Brand': 'Brooklyn Cables', 'Color': 'Yellow', 'ItemDimensions': {'Height': {'value': 16.9, 'Units': 'inches'}, 'Length': {'value': 16.9, 'Units': 'inches'}, 'Width': {'value': 9.4, 'Units': 'inches'}}, 'Label': 'Brooklyn Cables', 'ListPrice': {'Amount': 189.99, 'CurrencyCode': 'USD'}, 'Manufacturer': 'Brooklyn Cables', 'Model': 'CAT6-Cmp-Solid Copper', 'PackageDimensions': {'Height': {'value': 9.4, 'Units': 'inches'}, 'Length': {'value': 16.9, 'Units': 'inches'}, 'Width': {'value': 16.9, 'Units': 'inches'}, 'Weight': {'value': 27.0, 'Units': 'pounds'}}, 'PartNumber': 'CAT6-Cmp-Solid Copper', 'ProductGroup': 'BISS Basic', 'ProductTypeName': 'ELECTRONIC_CABLE', 'Publisher': 'Brooklyn Cables', 'Size': '1000 feet', 'SmallImage': {'URL': 'https://m.media-amazon.com/images/I/41JuKdWqsNS._SL75_.jpg', 'Height': {'Units': 'pixels', 'value': 75}, 'Width': {'Units': 'pixels', 'value': 75}}, 'Studio': 'Brooklyn Cables', 'Title': 'Cat6 Plenum (CMP) 1000ft |100% Solid Copper Conductors |Fluke-Certified |550MHz, 23AWG 4Pair, Unshielded Twisted Pair (UTP), Bulk Ethernet Cable |Brooklyn Cables| (Yellow)'}], 'Relationships': [{'Identifiers': {'MarketplaceASIN': {'MarketplaceId': 'ATVPDKIKX0DER', 'ASIN': 'B08YRVNTS8'}}}], 'SalesRankings': []}\n"
     ]
    }
   ],
   "source": [
    "# getting item information based on its ASIN\n",
    "res = res_catalog.get_item('B0924R9HVD')\n",
    "color = res.payload['AttributeSets'][0]['Color']\n",
    "prodDescription = res.payload['AttributeSets'][0]['Title']\n",
    "price = res.payload['AttributeSets'][0]['ListPrice']['Amount']\n",
    "print(price)\n",
    "print(color)\n",
    "print(prodDescription)\n",
    "print(res.payload)"
   ]
  },
  {
   "cell_type": "code",
   "execution_count": 8,
   "metadata": {},
   "outputs": [
    {
     "name": "stdout",
     "output_type": "stream",
     "text": [
      "{'B08P3X2ZZT': 1, 'B0924N19J8': 18, 'B0924SBBMQ': 18, 'B08P3W63KG': 0, 'B0924R9HVD': 37}\n"
     ]
    }
   ],
   "source": [
    "# LInventory check\n",
    "res = res_invento.get_inventory_summary_marketplace(details=True)\n",
    "\n",
    "asin_quantity_dict = {}\n",
    "\n",
    "for i in range(0,5):\n",
    "\n",
    "    asin = res.payload['inventorySummaries'][i]['asin']\n",
    "    #color = res.payload['inventorySummaries'][i]['sellerSku']\n",
    "    available = res.payload['inventorySummaries'][i]['inventoryDetails']['fulfillableQuantity']\n",
    "    #prodDescription = res.payload['inventorySummaries'][i]['productName']\n",
    "    \n",
    "    asin_quantity_dict[asin] = available\n",
    "#     print(\"------------------------------------------------\")\n",
    "#     print(asin)\n",
    "#     print(color[10:])\n",
    "#     print(available)\n",
    "#     print(prodDescription)\n",
    "    #print(\"------------------------------------------------\")\n",
    "    \n",
    "#print(res.payload)\n",
    "\n",
    "print(asin_quantity_dict)"
   ]
  },
  {
   "cell_type": "code",
   "execution_count": null,
   "metadata": {},
   "outputs": [],
   "source": []
  }
 ],
 "metadata": {
  "kernelspec": {
   "display_name": "Python 3",
   "language": "python",
   "name": "python3"
  },
  "language_info": {
   "codemirror_mode": {
    "name": "ipython",
    "version": 3
   },
   "file_extension": ".py",
   "mimetype": "text/x-python",
   "name": "python",
   "nbconvert_exporter": "python",
   "pygments_lexer": "ipython3",
   "version": "3.8.10"
  }
 },
 "nbformat": 4,
 "nbformat_minor": 4
}
