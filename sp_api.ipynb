{
 "cells": [
  {
   "cell_type": "code",
   "execution_count": 45,
   "metadata": {},
   "outputs": [],
   "source": [
    "from sp_api.api import Orders\n",
    "from sp_api.api import Products\n",
    "from sp_api.api import Reports\n",
    "from sp_api.api import Feeds\n",
    "from sp_api.api import Catalog\n",
    "from sp_api.base.reportTypes import ReportType\n",
    "from sp_api.base.marketplaces import Marketplaces\n",
    "from datetime import datetime, timedelta"
   ]
  },
  {
   "cell_type": "code",
   "execution_count": 46,
   "metadata": {},
   "outputs": [],
   "source": [
    "credentials=dict(\n",
    "        refresh_token='',\n",
    "        lwa_app_id='',\n",
    "        lwa_client_secret='',\n",
    "        aws_secret_key='',\n",
    "        aws_access_key='',\n",
    "        role_arn='',\n",
    "    )"
   ]
  },
  {
   "cell_type": "code",
   "execution_count": 52,
   "metadata": {},
   "outputs": [
    {
     "name": "stdout",
     "output_type": "stream",
     "text": [
      "{'Orders': [{'BuyerInfo': {}, 'AmazonOrderId': '113-1045853-4473029', 'EarliestShipDate': '2021-07-29T06:59:59Z', 'SalesChannel': 'Amazon.com', 'OrderStatus': 'Pending', 'NumberOfItemsShipped': 0, 'OrderType': 'StandardOrder', 'IsPremiumOrder': False, 'IsPrime': False, 'FulfillmentChannel': 'AFN', 'NumberOfItemsUnshipped': 2, 'IsReplacementOrder': 'false', 'IsSoldByAB': False, 'LatestShipDate': '2021-07-29T06:59:59Z', 'ShipServiceLevel': 'Standard', 'IsISPU': False, 'MarketplaceId': 'ATVPDKIKX0DER', 'PurchaseDate': '2021-07-21T13:42:33Z', 'SellerOrderId': '113-1045853-4473029', 'PaymentMethod': 'Other', 'IsBusinessOrder': False, 'PaymentMethodDetails': ['Standard'], 'IsGlobalExpressEnabled': False, 'LastUpdateDate': '2021-07-21T13:42:37Z', 'ShipmentServiceLevelCategory': 'Standard'}], 'CreatedBefore': '2021-07-25T18:44:39Z'}\n"
     ]
    }
   ],
   "source": [
    "res = Orders(credentials=credentials).get_orders(CreatedAfter=(datetime.utcnow() - timedelta(days=21)).isoformat())\n",
    "print(res.payload) # json data"
   ]
  },
  {
   "cell_type": "code",
   "execution_count": 48,
   "metadata": {},
   "outputs": [],
   "source": [
    "sku_list = [\"BC-CAT6-P-Grey\",\"BC-CAT6-P-Yellow\",\"BC-CAT6-P-Black\",\"BC-CAT6-P-WHITE\",\"BC-CAT6-P-BLUE\"]\n",
    "res_product = Products(credentials=credentials, marketplace=Marketplaces.US)\n",
    "res = res_product.get_product_pricing_for_skus(sku_list) "
   ]
  },
  {
   "cell_type": "code",
   "execution_count": 49,
   "metadata": {},
   "outputs": [
    {
     "name": "stdout",
     "output_type": "stream",
     "text": [
      "{'status': 'Success', 'SellerSKU': 'BC-CAT6-P-Grey', 'Product': {'Identifiers': {'MarketplaceASIN': {'MarketplaceId': 'ATVPDKIKX0DER', 'ASIN': 'B0924SBBMQ'}, 'SKUIdentifier': {'MarketplaceId': 'ATVPDKIKX0DER', 'SellerId': 'A32X49ZK7DX7KD', 'SellerSKU': 'BC-CAT6-P-Grey'}}, 'Offers': [{'BuyingPrice': {'ListingPrice': {'CurrencyCode': 'USD', 'Amount': 184.99}, 'LandedPrice': {'CurrencyCode': 'USD', 'Amount': 184.99}, 'Shipping': {'CurrencyCode': 'USD', 'Amount': 0.0}}, 'RegularPrice': {'CurrencyCode': 'USD', 'Amount': 184.99}, 'FulfillmentChannel': 'AMAZON', 'ItemCondition': 'New', 'ItemSubCondition': 'New', 'SellerSKU': 'BC-CAT6-P-Grey'}]}}\n"
     ]
    }
   ],
   "source": [
    "print(res.payload[0])\n",
    "ASIN_0 = res.payload[0]['Product']['Identifiers']['MarketplaceASIN']['ASIN']"
   ]
  },
  {
   "cell_type": "code",
   "execution_count": 51,
   "metadata": {},
   "outputs": [
    {
     "name": "stdout",
     "output_type": "stream",
     "text": [
      "{'Identifiers': {'MarketplaceASIN': {'MarketplaceId': 'ATVPDKIKX0DER', 'ASIN': 'B0924SBBMQ'}}, 'AttributeSets': [{'Brand': 'Brooklyn Cables', 'Color': 'Grey', 'ItemDimensions': {'Height': {'value': 16.9, 'Units': 'inches'}, 'Length': {'value': 16.9, 'Units': 'inches'}, 'Width': {'value': 9.4, 'Units': 'inches'}}, 'Label': 'Brooklyn Cables', 'ListPrice': {'Amount': 189.99, 'CurrencyCode': 'USD'}, 'Manufacturer': 'Brooklyn Cables', 'Model': 'CAT6-Cmp-Solid Copper', 'PackageDimensions': {'Height': {'value': 9.4, 'Units': 'inches'}, 'Length': {'value': 16.9, 'Units': 'inches'}, 'Width': {'value': 16.9, 'Units': 'inches'}, 'Weight': {'value': 27.0, 'Units': 'pounds'}}, 'PartNumber': 'CAT6-Cmp-Solid Copper', 'ProductGroup': 'BISS Basic', 'ProductTypeName': 'ELECTRONIC_CABLE', 'Publisher': 'Brooklyn Cables', 'Size': '1000 feet', 'SmallImage': {'URL': 'https://m.media-amazon.com/images/I/41YYbwfAHLS._SL75_.jpg', 'Height': {'Units': 'pixels', 'value': 75}, 'Width': {'Units': 'pixels', 'value': 75}}, 'Studio': 'Brooklyn Cables', 'Title': 'Cat6 Plenum (CMP) 1000ft |100% Solid Copper Conductors |Fluke-Certified |550MHz, 23AWG 4Pair, Unshielded Twisted Pair (UTP), Bulk Ethernet Cable |Brooklyn Cables| (Grey)'}], 'Relationships': [{'Identifiers': {'MarketplaceASIN': {'MarketplaceId': 'ATVPDKIKX0DER', 'ASIN': 'B08YRVNTS8'}}}], 'SalesRankings': []}\n"
     ]
    }
   ],
   "source": [
    "res_catalogue = Catalog(marketplace = Marketplaces.US, account='default', credentials=credentials)\n",
    "res = res_catalogue.get_item(asin=ASIN_0)\n",
    "#res = res_catalogue.list_items()\n",
    "print(res.payload)"
   ]
  },
  {
   "cell_type": "code",
   "execution_count": null,
   "metadata": {},
   "outputs": [],
   "source": []
  }
 ],
 "metadata": {
  "kernelspec": {
   "display_name": "Python 3",
   "language": "python",
   "name": "python3"
  },
  "language_info": {
   "codemirror_mode": {
    "name": "ipython",
    "version": 3
   },
   "file_extension": ".py",
   "mimetype": "text/x-python",
   "name": "python",
   "nbconvert_exporter": "python",
   "pygments_lexer": "ipython3",
   "version": "3.8.10"
  }
 },
 "nbformat": 4,
 "nbformat_minor": 4
}
